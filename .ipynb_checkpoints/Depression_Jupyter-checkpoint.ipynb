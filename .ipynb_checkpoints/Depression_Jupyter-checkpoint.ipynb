{
 "cells": [
  {
   "cell_type": "code",
   "execution_count": null,
   "id": "fa5ef284-9672-434e-8f7d-f6be409a5b20",
   "metadata": {},
   "outputs": [],
   "source": [
    "import pandas as pd, numpy as np, statsmodels.api as sm\n",
    "\n",
    "data = pd.read_csv('Depression Student Dataset.csv')\n",
    "depression_df = pd.DataFrame(data)\n",
    "\n",
    "\n",
    "for col in depression_df:\n",
    "    if not pd.api.types.is_numeric_dtype(depression_df[col]):\n",
    "        depression_df = pd.get_dummies(depression_df, columns=[col], prefix=col, drop_first=True)\n",
    "\n",
    "depression_df.head()\n"
   ]
  }
 ],
 "metadata": {
  "kernelspec": {
   "display_name": "Python 3 (ipykernel)",
   "language": "python",
   "name": "python3"
  },
  "language_info": {
   "codemirror_mode": {
    "name": "ipython",
    "version": 3
   },
   "file_extension": ".py",
   "mimetype": "text/x-python",
   "name": "python",
   "nbconvert_exporter": "python",
   "pygments_lexer": "ipython3",
   "version": "3.10.14"
  }
 },
 "nbformat": 4,
 "nbformat_minor": 5
}
